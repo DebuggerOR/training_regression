{
 "cells": [
  {
   "cell_type": "markdown",
   "metadata": {
    "collapsed": true,
    "pycharm": {
     "name": "#%% md\n"
    }
   },
   "source": [
    "# Linear Regression Training\n",
    "## Boston house-prices dataset\n",
    "* 506 examples\n",
    "* 13 features\n",
    "* the features are real and positive\n",
    "* the targets are real in the range of 5 to 50"
   ]
  },
  {
   "cell_type": "code",
   "execution_count": 199,
   "outputs": [],
   "source": [
    "import numpy as np\n",
    "import pandas as pd\n",
    "import seaborn as sns\n",
    "import matplotlib.pyplot as plt\n",
    "from sklearn.datasets import load_boston\n",
    "from sklearn.metrics import mean_squared_error\n",
    "from sklearn.model_selection import train_test_split"
   ],
   "metadata": {
    "collapsed": false,
    "pycharm": {
     "name": "#%%\n"
    }
   }
  },
  {
   "cell_type": "code",
   "execution_count": 171,
   "outputs": [
    {
     "name": "stdout",
     "output_type": "stream",
     "text": [
      ".. _boston_dataset:\n",
      "\n",
      "Boston house prices dataset\n",
      "---------------------------\n",
      "\n",
      "**Data Set Characteristics:**  \n",
      "\n",
      "    :Number of Instances: 506 \n",
      "\n",
      "    :Number of Attributes: 13 numeric/categorical predictive. Median Value (attribute 14) is usually the target.\n",
      "\n",
      "    :Attribute Information (in order):\n",
      "        - CRIM     per capita crime rate by town\n",
      "        - ZN       proportion of residential land zoned for lots over 25,000 sq.ft.\n",
      "        - INDUS    proportion of non-retail business acres per town\n",
      "        - CHAS     Charles River dummy variable (= 1 if tract bounds river; 0 otherwise)\n",
      "        - NOX      nitric oxides concentration (parts per 10 million)\n",
      "        - RM       average number of rooms per dwelling\n",
      "        - AGE      proportion of owner-occupied units built prior to 1940\n",
      "        - DIS      weighted distances to five Boston employment centres\n",
      "        - RAD      index of accessibility to radial highways\n",
      "        - TAX      full-value property-tax rate per $10,000\n",
      "        - PTRATIO  pupil-teacher ratio by town\n",
      "        - B        1000(Bk - 0.63)^2 where Bk is the proportion of blacks by town\n",
      "        - LSTAT    % lower status of the population\n",
      "        - MEDV     Median value of owner-occupied homes in $1000's\n",
      "\n",
      "    :Missing Attribute Values: None\n",
      "\n",
      "    :Creator: Harrison, D. and Rubinfeld, D.L.\n",
      "\n",
      "This is a copy of UCI ML housing dataset.\n",
      "https://archive.ics.uci.edu/ml/machine-learning-databases/housing/\n",
      "\n",
      "\n",
      "This dataset was taken from the StatLib library which is maintained at Carnegie Mellon University.\n",
      "\n",
      "The Boston house-price data of Harrison, D. and Rubinfeld, D.L. 'Hedonic\n",
      "prices and the demand for clean air', J. Environ. Economics & Management,\n",
      "vol.5, 81-102, 1978.   Used in Belsley, Kuh & Welsch, 'Regression diagnostics\n",
      "...', Wiley, 1980.   N.B. Various transformations are used in the table on\n",
      "pages 244-261 of the latter.\n",
      "\n",
      "The Boston house-price data has been used in many machine learning papers that address regression\n",
      "problems.   \n",
      "     \n",
      ".. topic:: References\n",
      "\n",
      "   - Belsley, Kuh & Welsch, 'Regression diagnostics: Identifying Influential Data and Sources of Collinearity', Wiley, 1980. 244-261.\n",
      "   - Quinlan,R. (1993). Combining Instance-Based and Model-Based Learning. In Proceedings on the Tenth International Conference of Machine Learning, 236-243, University of Massachusetts, Amherst. Morgan Kaufmann.\n",
      "\n"
     ]
    }
   ],
   "source": [
    "boston = load_boston()\n",
    "print(boston.DESCR)"
   ],
   "metadata": {
    "collapsed": false,
    "pycharm": {
     "name": "#%%\n"
    }
   }
  },
  {
   "cell_type": "code",
   "execution_count": 172,
   "outputs": [
    {
     "data": {
      "text/plain": "      CRIM    ZN  INDUS  CHAS    NOX     RM   AGE     DIS  RAD    TAX  \\\n0  0.00632  18.0   2.31   0.0  0.538  6.575  65.2  4.0900  1.0  296.0   \n1  0.02731   0.0   7.07   0.0  0.469  6.421  78.9  4.9671  2.0  242.0   \n2  0.02729   0.0   7.07   0.0  0.469  7.185  61.1  4.9671  2.0  242.0   \n3  0.03237   0.0   2.18   0.0  0.458  6.998  45.8  6.0622  3.0  222.0   \n4  0.06905   0.0   2.18   0.0  0.458  7.147  54.2  6.0622  3.0  222.0   \n\n   PTRATIO       B  LSTAT  MEDV  \n0     15.3  396.90   4.98  24.0  \n1     17.8  396.90   9.14  21.6  \n2     17.8  392.83   4.03  34.7  \n3     18.7  394.63   2.94  33.4  \n4     18.7  396.90   5.33  36.2  ",
      "text/html": "<div>\n<style scoped>\n    .dataframe tbody tr th:only-of-type {\n        vertical-align: middle;\n    }\n\n    .dataframe tbody tr th {\n        vertical-align: top;\n    }\n\n    .dataframe thead th {\n        text-align: right;\n    }\n</style>\n<table border=\"1\" class=\"dataframe\">\n  <thead>\n    <tr style=\"text-align: right;\">\n      <th></th>\n      <th>CRIM</th>\n      <th>ZN</th>\n      <th>INDUS</th>\n      <th>CHAS</th>\n      <th>NOX</th>\n      <th>RM</th>\n      <th>AGE</th>\n      <th>DIS</th>\n      <th>RAD</th>\n      <th>TAX</th>\n      <th>PTRATIO</th>\n      <th>B</th>\n      <th>LSTAT</th>\n      <th>MEDV</th>\n    </tr>\n  </thead>\n  <tbody>\n    <tr>\n      <th>0</th>\n      <td>0.00632</td>\n      <td>18.0</td>\n      <td>2.31</td>\n      <td>0.0</td>\n      <td>0.538</td>\n      <td>6.575</td>\n      <td>65.2</td>\n      <td>4.0900</td>\n      <td>1.0</td>\n      <td>296.0</td>\n      <td>15.3</td>\n      <td>396.90</td>\n      <td>4.98</td>\n      <td>24.0</td>\n    </tr>\n    <tr>\n      <th>1</th>\n      <td>0.02731</td>\n      <td>0.0</td>\n      <td>7.07</td>\n      <td>0.0</td>\n      <td>0.469</td>\n      <td>6.421</td>\n      <td>78.9</td>\n      <td>4.9671</td>\n      <td>2.0</td>\n      <td>242.0</td>\n      <td>17.8</td>\n      <td>396.90</td>\n      <td>9.14</td>\n      <td>21.6</td>\n    </tr>\n    <tr>\n      <th>2</th>\n      <td>0.02729</td>\n      <td>0.0</td>\n      <td>7.07</td>\n      <td>0.0</td>\n      <td>0.469</td>\n      <td>7.185</td>\n      <td>61.1</td>\n      <td>4.9671</td>\n      <td>2.0</td>\n      <td>242.0</td>\n      <td>17.8</td>\n      <td>392.83</td>\n      <td>4.03</td>\n      <td>34.7</td>\n    </tr>\n    <tr>\n      <th>3</th>\n      <td>0.03237</td>\n      <td>0.0</td>\n      <td>2.18</td>\n      <td>0.0</td>\n      <td>0.458</td>\n      <td>6.998</td>\n      <td>45.8</td>\n      <td>6.0622</td>\n      <td>3.0</td>\n      <td>222.0</td>\n      <td>18.7</td>\n      <td>394.63</td>\n      <td>2.94</td>\n      <td>33.4</td>\n    </tr>\n    <tr>\n      <th>4</th>\n      <td>0.06905</td>\n      <td>0.0</td>\n      <td>2.18</td>\n      <td>0.0</td>\n      <td>0.458</td>\n      <td>7.147</td>\n      <td>54.2</td>\n      <td>6.0622</td>\n      <td>3.0</td>\n      <td>222.0</td>\n      <td>18.7</td>\n      <td>396.90</td>\n      <td>5.33</td>\n      <td>36.2</td>\n    </tr>\n  </tbody>\n</table>\n</div>"
     },
     "execution_count": 172,
     "metadata": {},
     "output_type": "execute_result"
    }
   ],
   "source": [
    "df = pd.DataFrame(boston.data, columns=boston.feature_names)\n",
    "df['MEDV'] = boston.target\n",
    "df.head()"
   ],
   "metadata": {
    "collapsed": false,
    "pycharm": {
     "name": "#%%\n"
    }
   }
  },
  {
   "cell_type": "code",
   "execution_count": 173,
   "outputs": [
    {
     "data": {
      "text/plain": "CRIM       0\nZN         0\nINDUS      0\nCHAS       0\nNOX        0\nRM         0\nAGE        0\nDIS        0\nRAD        0\nTAX        0\nPTRATIO    0\nB          0\nLSTAT      0\nMEDV       0\ndtype: int64"
     },
     "execution_count": 173,
     "metadata": {},
     "output_type": "execute_result"
    }
   ],
   "source": [
    "df.isna().sum()"
   ],
   "metadata": {
    "collapsed": false,
    "pycharm": {
     "name": "#%%\n"
    }
   }
  },
  {
   "cell_type": "code",
   "execution_count": 174,
   "outputs": [
    {
     "data": {
      "text/plain": "<Figure size 432x288 with 1 Axes>",
      "image/png": "[encoded data removed]"
     },
     "metadata": {
      "needs_background": "light"
     },
     "output_type": "display_data"
    }
   ],
   "source": [
    "sns.distplot(df['MEDV'], bins=30)\n",
    "plt.show()"
   ],
   "metadata": {
    "collapsed": false,
    "pycharm": {
     "name": "#%%\n"
    }
   }
  },
  {
   "cell_type": "markdown",
   "source": [
    "## 1. Fit a linear regression model to predict medv using LSTAT\n",
    "### Do it in 3 different ways: analytically, sequantial learning and sklearn's builtin predictor.\n",
    "### Compare your results"
   ],
   "metadata": {
    "collapsed": false,
    "pycharm": {
     "name": "#%% md\n"
    }
   }
  },
  {
   "cell_type": "markdown",
   "source": [
    "## Analytical Solution\n",
    "$y' = wx$\n",
    "\n",
    "$loss(y,y')=\\frac{1}{n} \\sum_{i=1}^{n}{(y'-y)^2} = \\frac{1}{n} \\sum_{i=1}^{n}{(wx-y)^2}$ (MSE loss)\n",
    "\n",
    "$loss'(y,y')$  respect to $w$ is $\\frac{2}{n} \\sum_{i=1}^{n} {(wx-y)} \\cdot{x}$\n",
    "\n",
    "that is $\\sum_{i=1}^{n}{x_i^2} \\cdot w  = \\sum_{i=1}^{n} {y_i \\cdot x_i}$\n",
    "\n",
    "notice that in general $x_i$ is a feature vector and $y_i$ is an entry in the target vector, but here we use only one\n",
    " feature, so the solution is easy:\n",
    "\n",
    "$w = \\sum_{i=1}^{n}{y_i} / \\sum_{i=1}^{n}{x_i}$"
   ],
   "metadata": {
    "collapsed": false
   }
  },
  {
   "cell_type": "code",
   "execution_count": 200,
   "outputs": [],
   "source": [
    "X = df['LSTAT']\n",
    "Y = df['MEDV']\n",
    "\n",
    "X_train, X_test, Y_train, Y_test = train_test_split(\n",
    "        X, Y, test_size=1 / 3, random_state=0)\n",
    "\n",
    "X_a = np.array([[1,x] for x in X_train])\n",
    "\n",
    "n = X_a.shape[1]\n",
    "r = np.linalg.matrix_rank(X_a)\n",
    "\n",
    "U, sigma, VT = np.linalg.svd(X_a, full_matrices=False)\n",
    "\n",
    "D_plus = np.diag(np.hstack([1/sigma[:r], np.zeros(n-r)]))\n",
    "\n",
    "V = VT.T\n",
    "\n",
    "X_plus = V.dot(D_plus).dot(U.T)\n",
    "\n",
    "w_a = X_plus.dot(Y_train)"
   ],
   "metadata": {
    "collapsed": false,
    "pycharm": {
     "name": "#%%\n"
    }
   }
  },
  {
   "cell_type": "code",
   "execution_count": 201,
   "outputs": [],
   "source": [
    "def pred_a(x):\n",
    "    return np.dot(w_a,np.array([1,x]))"
   ],
   "metadata": {
    "collapsed": false,
    "pycharm": {
     "name": "#%%\n"
    }
   }
  },
  {
   "cell_type": "code",
   "execution_count": 215,
   "outputs": [],
   "source": [
    "preds_a = X_test.apply(pred_a)"
   ],
   "metadata": {
    "collapsed": false,
    "pycharm": {
     "name": "#%%\n"
    }
   }
  },
  {
   "cell_type": "code",
   "execution_count": 203,
   "outputs": [
    {
     "data": {
      "text/plain": "<Figure size 432x288 with 1 Axes>",
      "image/png": "[encoded data removed]"
     },
     "metadata": {
      "needs_background": "light"
     },
     "output_type": "display_data"
    }
   ],
   "source": [
    "plt.title('Analytical LSTAT Regression')\n",
    "plt.xlabel('LSTAT')\n",
    "plt.ylabel('MEDV')\n",
    "\n",
    "plt.scatter(X_test, Y_test,  color='blue')\n",
    "plt.plot(X_test, preds_a, color='red', linewidth=3)\n",
    "\n",
    "plt.show()"
   ],
   "metadata": {
    "collapsed": false,
    "pycharm": {
     "name": "#%%\n"
    }
   }
  },
  {
   "cell_type": "code",
   "execution_count": 204,
   "outputs": [],
   "source": [
    "w_s = 0\n",
    "b_s = 0\n",
    "lr = 0.005\n",
    "epochs = 10\n",
    "n = len(X_train)\n",
    "\n",
    "for i in range(epochs):\n",
    "    Y_pred = w_s*X_train + b_s\n",
    "    grad_w = (-2/n) * sum(X_train * (Y_train - Y_pred))  # Derivative wrt m\n",
    "    grad_b = (-2/n) * sum(Y_train - Y_pred)  # Derivative wrt c\n",
    "    w_s = w_s - lr * grad_w\n",
    "    b_s = b_s - lr * grad_b"
   ],
   "metadata": {
    "collapsed": false,
    "pycharm": {
     "name": "#%%\n"
    }
   }
  },
  {
   "cell_type": "code",
   "execution_count": 205,
   "outputs": [],
   "source": [
    "def pred_s(x):\n",
    "    return w_s*x + b_s"
   ],
   "metadata": {
    "collapsed": false,
    "pycharm": {
     "name": "#%%\n"
    }
   }
  },
  {
   "cell_type": "code",
   "execution_count": 208,
   "outputs": [],
   "source": [
    "preds_seq = X_test.apply(pred_s)"
   ],
   "metadata": {
    "collapsed": false,
    "pycharm": {
     "name": "#%%\n"
    }
   }
  },
  {
   "cell_type": "code",
   "execution_count": 207,
   "outputs": [
    {
     "data": {
      "text/plain": "<Figure size 432x288 with 1 Axes>",
      "image/png": "[encoded data removed]"
     },
     "metadata": {
      "needs_background": "light"
     },
     "output_type": "display_data"
    }
   ],
   "source": [
    "plt.title('Sequential LSTAT Regression')\n",
    "plt.xlabel('LSTAT')\n",
    "plt.ylabel('MEDV')\n",
    "\n",
    "plt.scatter(X_test, Y_test,  color='blue')\n",
    "plt.plot(X_test, preds_seq, color='red', linewidth=3)\n",
    "\n",
    "plt.show()"
   ],
   "metadata": {
    "collapsed": false,
    "pycharm": {
     "name": "#%%\n"
    }
   }
  },
  {
   "cell_type": "code",
   "execution_count": 212,
   "outputs": [],
   "source": [
    "from sklearn.linear_model import LinearRegression\n",
    "\n",
    "X_train_sk = [[x] for x in X_train]\n",
    "X_test_sk = [[x] for x in X_test]\n",
    "\n",
    "model = LinearRegression()\n",
    "model.fit(X_train_sk,Y_train)\n",
    "preds_sk = model.predict(X_test_sk)"
   ],
   "metadata": {
    "collapsed": false,
    "pycharm": {
     "name": "#%%\n"
    }
   }
  },
  {
   "cell_type": "code",
   "execution_count": 213,
   "outputs": [
    {
     "data": {
      "text/plain": "<Figure size 432x288 with 1 Axes>",
      "image/png": "[encoded data removed]"
     },
     "metadata": {
      "needs_background": "light"
     },
     "output_type": "display_data"
    }
   ],
   "source": [
    "plt.title('SKLRN LSTAT Regression')\n",
    "plt.scatter(X_test,Y_test)\n",
    "plt.xlabel('LSTAT')\n",
    "plt.ylabel('MEDV')\n",
    "\n",
    "plt.scatter(X_test, Y_test,  color='blue')\n",
    "plt.plot(X_test, preds_sk, color='red', linewidth=3)\n",
    "\n",
    "plt.show()"
   ],
   "metadata": {
    "collapsed": false,
    "pycharm": {
     "name": "#%%\n"
    }
   }
  },
  {
   "cell_type": "code",
   "execution_count": 216,
   "outputs": [
    {
     "name": "stdout",
     "output_type": "stream",
     "text": [
      "MSE using analytical solution: 38.66\n",
      "MSE using sequential solution: 851.68\n",
      "MSE using sklearn: 38.66\n"
     ]
    }
   ],
   "source": [
    "print('MSE using analytical solution: %.2f'\n",
    "      % mean_squared_error(preds_a, Y_test))\n",
    "\n",
    "print('MSE using sequential solution: %.2f'\n",
    "      % mean_squared_error(preds_seq, Y_test))\n",
    "\n",
    "print('MSE using sklearn: %.2f'\n",
    "      % mean_squared_error(preds_sk, Y_test))"
   ],
   "metadata": {
    "collapsed": false,
    "pycharm": {
     "name": "#%%\n"
    }
   }
  },
  {
   "cell_type": "markdown",
   "source": [
    "### Sklearn is similar to Analytical"
   ],
   "metadata": {
    "collapsed": false,
    "pycharm": {
     "name": "#%% md\n"
    }
   }
  },
  {
   "cell_type": "markdown",
   "source": [
    "## 2. Use another feature that is equal to two times lstat"
   ],
   "metadata": {
    "collapsed": false,
    "pycharm": {
     "name": "#%% md\n"
    }
   }
  },
  {
   "cell_type": "code",
   "execution_count": 185,
   "outputs": [
    {
     "data": {
      "text/plain": "      CRIM    ZN  INDUS  CHAS    NOX     RM   AGE     DIS  RAD    TAX  \\\n0  0.00632  18.0   2.31   0.0  0.538  6.575  65.2  4.0900  1.0  296.0   \n1  0.02731   0.0   7.07   0.0  0.469  6.421  78.9  4.9671  2.0  242.0   \n2  0.02729   0.0   7.07   0.0  0.469  7.185  61.1  4.9671  2.0  242.0   \n3  0.03237   0.0   2.18   0.0  0.458  6.998  45.8  6.0622  3.0  222.0   \n4  0.06905   0.0   2.18   0.0  0.458  7.147  54.2  6.0622  3.0  222.0   \n\n   PTRATIO       B  LSTAT  MEDV     A_PRED   SEQ_PRED    SK_PRED   SK2_PRED  \n0     15.3  396.90   4.98  24.0  29.822595 -10.934938  29.822595  29.822595  \n1     17.8  396.90   9.14  21.6  25.870390 -20.639761  25.870390  25.870390  \n2     17.8  392.83   4.03  34.7  30.725142  -8.718692  30.725142  30.725142  \n3     18.7  394.63   2.94  33.4  31.760696  -6.175841  31.760696  31.760696  \n4     18.7  396.90   5.33  36.2  29.490078 -11.751449  29.490078  29.490078  ",
      "text/html": "<div>\n<style scoped>\n    .dataframe tbody tr th:only-of-type {\n        vertical-align: middle;\n    }\n\n    .dataframe tbody tr th {\n        vertical-align: top;\n    }\n\n    .dataframe thead th {\n        text-align: right;\n    }\n</style>\n<table border=\"1\" class=\"dataframe\">\n  <thead>\n    <tr style=\"text-align: right;\">\n      <th></th>\n      <th>CRIM</th>\n      <th>ZN</th>\n      <th>INDUS</th>\n      <th>CHAS</th>\n      <th>NOX</th>\n      <th>RM</th>\n      <th>AGE</th>\n      <th>DIS</th>\n      <th>RAD</th>\n      <th>TAX</th>\n      <th>PTRATIO</th>\n      <th>B</th>\n      <th>LSTAT</th>\n      <th>MEDV</th>\n      <th>A_PRED</th>\n      <th>SEQ_PRED</th>\n      <th>SK_PRED</th>\n      <th>SK2_PRED</th>\n    </tr>\n  </thead>\n  <tbody>\n    <tr>\n      <th>0</th>\n      <td>0.00632</td>\n      <td>18.0</td>\n      <td>2.31</td>\n      <td>0.0</td>\n      <td>0.538</td>\n      <td>6.575</td>\n      <td>65.2</td>\n      <td>4.0900</td>\n      <td>1.0</td>\n      <td>296.0</td>\n      <td>15.3</td>\n      <td>396.90</td>\n      <td>4.98</td>\n      <td>24.0</td>\n      <td>29.822595</td>\n      <td>-10.934938</td>\n      <td>29.822595</td>\n      <td>29.822595</td>\n    </tr>\n    <tr>\n      <th>1</th>\n      <td>0.02731</td>\n      <td>0.0</td>\n      <td>7.07</td>\n      <td>0.0</td>\n      <td>0.469</td>\n      <td>6.421</td>\n      <td>78.9</td>\n      <td>4.9671</td>\n      <td>2.0</td>\n      <td>242.0</td>\n      <td>17.8</td>\n      <td>396.90</td>\n      <td>9.14</td>\n      <td>21.6</td>\n      <td>25.870390</td>\n      <td>-20.639761</td>\n      <td>25.870390</td>\n      <td>25.870390</td>\n    </tr>\n    <tr>\n      <th>2</th>\n      <td>0.02729</td>\n      <td>0.0</td>\n      <td>7.07</td>\n      <td>0.0</td>\n      <td>0.469</td>\n      <td>7.185</td>\n      <td>61.1</td>\n      <td>4.9671</td>\n      <td>2.0</td>\n      <td>242.0</td>\n      <td>17.8</td>\n      <td>392.83</td>\n      <td>4.03</td>\n      <td>34.7</td>\n      <td>30.725142</td>\n      <td>-8.718692</td>\n      <td>30.725142</td>\n      <td>30.725142</td>\n    </tr>\n    <tr>\n      <th>3</th>\n      <td>0.03237</td>\n      <td>0.0</td>\n      <td>2.18</td>\n      <td>0.0</td>\n      <td>0.458</td>\n      <td>6.998</td>\n      <td>45.8</td>\n      <td>6.0622</td>\n      <td>3.0</td>\n      <td>222.0</td>\n      <td>18.7</td>\n      <td>394.63</td>\n      <td>2.94</td>\n      <td>33.4</td>\n      <td>31.760696</td>\n      <td>-6.175841</td>\n      <td>31.760696</td>\n      <td>31.760696</td>\n    </tr>\n    <tr>\n      <th>4</th>\n      <td>0.06905</td>\n      <td>0.0</td>\n      <td>2.18</td>\n      <td>0.0</td>\n      <td>0.458</td>\n      <td>7.147</td>\n      <td>54.2</td>\n      <td>6.0622</td>\n      <td>3.0</td>\n      <td>222.0</td>\n      <td>18.7</td>\n      <td>396.90</td>\n      <td>5.33</td>\n      <td>36.2</td>\n      <td>29.490078</td>\n      <td>-11.751449</td>\n      <td>29.490078</td>\n      <td>29.490078</td>\n    </tr>\n  </tbody>\n</table>\n</div>"
     },
     "execution_count": 185,
     "metadata": {},
     "output_type": "execute_result"
    }
   ],
   "source": [
    "X = [[x, 2*x] for x in df['LSTAT']]\n",
    "\n",
    "model = LinearRegression()\n",
    "model.fit(X,df['MEDV'])\n",
    "preds = model.predict(X)\n",
    "\n",
    "df['SK2_PRED'] = preds\n",
    "df.head()"
   ],
   "metadata": {
    "collapsed": false,
    "pycharm": {
     "name": "#%%\n"
    }
   }
  },
  {
   "cell_type": "markdown",
   "source": [
    "### We get the same results. The second feature doesn't add any knowledge."
   ],
   "metadata": {
    "collapsed": false
   }
  },
  {
   "cell_type": "markdown",
   "source": [
    "## 3. Use all features except age. Did your prediction became better?"
   ],
   "metadata": {
    "collapsed": false
   }
  },
  {
   "cell_type": "code",
   "execution_count": 186,
   "outputs": [
    {
     "data": {
      "text/plain": "      CRIM    ZN  INDUS  CHAS    NOX     RM   AGE     DIS  RAD    TAX  \\\n0  0.00632  18.0   2.31   0.0  0.538  6.575  65.2  4.0900  1.0  296.0   \n1  0.02731   0.0   7.07   0.0  0.469  6.421  78.9  4.9671  2.0  242.0   \n2  0.02729   0.0   7.07   0.0  0.469  7.185  61.1  4.9671  2.0  242.0   \n3  0.03237   0.0   2.18   0.0  0.458  6.998  45.8  6.0622  3.0  222.0   \n4  0.06905   0.0   2.18   0.0  0.458  7.147  54.2  6.0622  3.0  222.0   \n\n   PTRATIO       B  LSTAT  MEDV     A_PRED   SEQ_PRED    SK_PRED   SK2_PRED  \\\n0     15.3  396.90   4.98  24.0  29.822595 -10.934938  29.822595  29.822595   \n1     17.8  396.90   9.14  21.6  25.870390 -20.639761  25.870390  25.870390   \n2     17.8  392.83   4.03  34.7  30.725142  -8.718692  30.725142  30.725142   \n3     18.7  394.63   2.94  33.4  31.760696  -6.175841  31.760696  31.760696   \n4     18.7  396.90   5.33  36.2  29.490078 -11.751449  29.490078  29.490078   \n\n   NO_AGE_PRED  \n0    29.998228  \n1    25.009542  \n2    30.562689  \n3    28.607066  \n4    27.940601  ",
      "text/html": "<div>\n<style scoped>\n    .dataframe tbody tr th:only-of-type {\n        vertical-align: middle;\n    }\n\n    .dataframe tbody tr th {\n        vertical-align: top;\n    }\n\n    .dataframe thead th {\n        text-align: right;\n    }\n</style>\n<table border=\"1\" class=\"dataframe\">\n  <thead>\n    <tr style=\"text-align: right;\">\n      <th></th>\n      <th>CRIM</th>\n      <th>ZN</th>\n      <th>INDUS</th>\n      <th>CHAS</th>\n      <th>NOX</th>\n      <th>RM</th>\n      <th>AGE</th>\n      <th>DIS</th>\n      <th>RAD</th>\n      <th>TAX</th>\n      <th>PTRATIO</th>\n      <th>B</th>\n      <th>LSTAT</th>\n      <th>MEDV</th>\n      <th>A_PRED</th>\n      <th>SEQ_PRED</th>\n      <th>SK_PRED</th>\n      <th>SK2_PRED</th>\n      <th>NO_AGE_PRED</th>\n    </tr>\n  </thead>\n  <tbody>\n    <tr>\n      <th>0</th>\n      <td>0.00632</td>\n      <td>18.0</td>\n      <td>2.31</td>\n      <td>0.0</td>\n      <td>0.538</td>\n      <td>6.575</td>\n      <td>65.2</td>\n      <td>4.0900</td>\n      <td>1.0</td>\n      <td>296.0</td>\n      <td>15.3</td>\n      <td>396.90</td>\n      <td>4.98</td>\n      <td>24.0</td>\n      <td>29.822595</td>\n      <td>-10.934938</td>\n      <td>29.822595</td>\n      <td>29.822595</td>\n      <td>29.998228</td>\n    </tr>\n    <tr>\n      <th>1</th>\n      <td>0.02731</td>\n      <td>0.0</td>\n      <td>7.07</td>\n      <td>0.0</td>\n      <td>0.469</td>\n      <td>6.421</td>\n      <td>78.9</td>\n      <td>4.9671</td>\n      <td>2.0</td>\n      <td>242.0</td>\n      <td>17.8</td>\n      <td>396.90</td>\n      <td>9.14</td>\n      <td>21.6</td>\n      <td>25.870390</td>\n      <td>-20.639761</td>\n      <td>25.870390</td>\n      <td>25.870390</td>\n      <td>25.009542</td>\n    </tr>\n    <tr>\n      <th>2</th>\n      <td>0.02729</td>\n      <td>0.0</td>\n      <td>7.07</td>\n      <td>0.0</td>\n      <td>0.469</td>\n      <td>7.185</td>\n      <td>61.1</td>\n      <td>4.9671</td>\n      <td>2.0</td>\n      <td>242.0</td>\n      <td>17.8</td>\n      <td>392.83</td>\n      <td>4.03</td>\n      <td>34.7</td>\n      <td>30.725142</td>\n      <td>-8.718692</td>\n      <td>30.725142</td>\n      <td>30.725142</td>\n      <td>30.562689</td>\n    </tr>\n    <tr>\n      <th>3</th>\n      <td>0.03237</td>\n      <td>0.0</td>\n      <td>2.18</td>\n      <td>0.0</td>\n      <td>0.458</td>\n      <td>6.998</td>\n      <td>45.8</td>\n      <td>6.0622</td>\n      <td>3.0</td>\n      <td>222.0</td>\n      <td>18.7</td>\n      <td>394.63</td>\n      <td>2.94</td>\n      <td>33.4</td>\n      <td>31.760696</td>\n      <td>-6.175841</td>\n      <td>31.760696</td>\n      <td>31.760696</td>\n      <td>28.607066</td>\n    </tr>\n    <tr>\n      <th>4</th>\n      <td>0.06905</td>\n      <td>0.0</td>\n      <td>2.18</td>\n      <td>0.0</td>\n      <td>0.458</td>\n      <td>7.147</td>\n      <td>54.2</td>\n      <td>6.0622</td>\n      <td>3.0</td>\n      <td>222.0</td>\n      <td>18.7</td>\n      <td>396.90</td>\n      <td>5.33</td>\n      <td>36.2</td>\n      <td>29.490078</td>\n      <td>-11.751449</td>\n      <td>29.490078</td>\n      <td>29.490078</td>\n      <td>27.940601</td>\n    </tr>\n  </tbody>\n</table>\n</div>"
     },
     "execution_count": 186,
     "metadata": {},
     "output_type": "execute_result"
    }
   ],
   "source": [
    "col_names = list(df.columns)\n",
    "col_names.remove('AGE')\n",
    "col_names.remove('MEDV')\n",
    "\n",
    "X = df[col_names]\n",
    "\n",
    "model = LinearRegression()\n",
    "model.fit(X,df['MEDV'])\n",
    "preds = model.predict(X)\n",
    "\n",
    "df['NO_AGE_PRED'] = preds\n",
    "df.head()"
   ],
   "metadata": {
    "collapsed": false,
    "pycharm": {
     "name": "#%%\n"
    }
   }
  },
  {
   "cell_type": "code",
   "execution_count": 187,
   "outputs": [
    {
     "name": "stdout",
     "output_type": "stream",
     "text": [
      "MSE using LSTAT: 38.48\n",
      "MSE using all except AGE: 21.89\n"
     ]
    }
   ],
   "source": [
    "print('MSE using LSTAT: %.2f'\n",
    "      % mean_squared_error(df['SK_PRED'], df['MEDV']))\n",
    "\n",
    "print('MSE using all except AGE: %.2f'\n",
    "      % mean_squared_error(df['NO_AGE_PRED'], df['MEDV']))"
   ],
   "metadata": {
    "collapsed": false,
    "pycharm": {
     "name": "#%%\n"
    }
   }
  },
  {
   "cell_type": "markdown",
   "source": [
    "### Predictions are much better"
   ],
   "metadata": {
    "collapsed": false,
    "pycharm": {
     "name": "#%% md\n"
    }
   }
  },
  {
   "cell_type": "markdown",
   "source": [
    "## 4. Compute parabolic fit based on LSTAT. Did your prediction became better?"
   ],
   "metadata": {
    "collapsed": false,
    "pycharm": {
     "name": "#%% md\n"
    }
   }
  },
  {
   "cell_type": "code",
   "execution_count": 188,
   "outputs": [],
   "source": [
    "from sklearn.preprocessing import PolynomialFeatures"
   ],
   "metadata": {
    "collapsed": false,
    "pycharm": {
     "name": "#%%\n"
    }
   }
  },
  {
   "cell_type": "code",
   "execution_count": 189,
   "outputs": [
    {
     "data": {
      "text/plain": "      CRIM    ZN  INDUS  CHAS    NOX     RM   AGE     DIS  RAD    TAX  \\\n0  0.00632  18.0   2.31   0.0  0.538  6.575  65.2  4.0900  1.0  296.0   \n1  0.02731   0.0   7.07   0.0  0.469  6.421  78.9  4.9671  2.0  242.0   \n2  0.02729   0.0   7.07   0.0  0.469  7.185  61.1  4.9671  2.0  242.0   \n3  0.03237   0.0   2.18   0.0  0.458  6.998  45.8  6.0622  3.0  222.0   \n4  0.06905   0.0   2.18   0.0  0.458  7.147  54.2  6.0622  3.0  222.0   \n\n   PTRATIO       B  LSTAT  MEDV     A_PRED   SEQ_PRED    SK_PRED   SK2_PRED  \\\n0     15.3  396.90   4.98  24.0  29.822595 -10.934938  29.822595  29.822595   \n1     17.8  396.90   9.14  21.6  25.870390 -20.639761  25.870390  25.870390   \n2     17.8  392.83   4.03  34.7  30.725142  -8.718692  30.725142  30.725142   \n3     18.7  394.63   2.94  33.4  31.760696  -6.175841  31.760696  31.760696   \n4     18.7  396.90   5.33  36.2  29.490078 -11.751449  29.490078  29.490078   \n\n   NO_AGE_PRED  POLY_LSTAT_PRED  \n0    29.998228        32.324539  \n1    25.009542        25.177912  \n2    30.562689        34.167979  \n3    28.607066        36.379915  \n4    27.940601        31.665190  ",
      "text/html": "<div>\n<style scoped>\n    .dataframe tbody tr th:only-of-type {\n        vertical-align: middle;\n    }\n\n    .dataframe tbody tr th {\n        vertical-align: top;\n    }\n\n    .dataframe thead th {\n        text-align: right;\n    }\n</style>\n<table border=\"1\" class=\"dataframe\">\n  <thead>\n    <tr style=\"text-align: right;\">\n      <th></th>\n      <th>CRIM</th>\n      <th>ZN</th>\n      <th>INDUS</th>\n      <th>CHAS</th>\n      <th>NOX</th>\n      <th>RM</th>\n      <th>AGE</th>\n      <th>DIS</th>\n      <th>RAD</th>\n      <th>TAX</th>\n      <th>PTRATIO</th>\n      <th>B</th>\n      <th>LSTAT</th>\n      <th>MEDV</th>\n      <th>A_PRED</th>\n      <th>SEQ_PRED</th>\n      <th>SK_PRED</th>\n      <th>SK2_PRED</th>\n      <th>NO_AGE_PRED</th>\n      <th>POLY_LSTAT_PRED</th>\n    </tr>\n  </thead>\n  <tbody>\n    <tr>\n      <th>0</th>\n      <td>0.00632</td>\n      <td>18.0</td>\n      <td>2.31</td>\n      <td>0.0</td>\n      <td>0.538</td>\n      <td>6.575</td>\n      <td>65.2</td>\n      <td>4.0900</td>\n      <td>1.0</td>\n      <td>296.0</td>\n      <td>15.3</td>\n      <td>396.90</td>\n      <td>4.98</td>\n      <td>24.0</td>\n      <td>29.822595</td>\n      <td>-10.934938</td>\n      <td>29.822595</td>\n      <td>29.822595</td>\n      <td>29.998228</td>\n      <td>32.324539</td>\n    </tr>\n    <tr>\n      <th>1</th>\n      <td>0.02731</td>\n      <td>0.0</td>\n      <td>7.07</td>\n      <td>0.0</td>\n      <td>0.469</td>\n      <td>6.421</td>\n      <td>78.9</td>\n      <td>4.9671</td>\n      <td>2.0</td>\n      <td>242.0</td>\n      <td>17.8</td>\n      <td>396.90</td>\n      <td>9.14</td>\n      <td>21.6</td>\n      <td>25.870390</td>\n      <td>-20.639761</td>\n      <td>25.870390</td>\n      <td>25.870390</td>\n      <td>25.009542</td>\n      <td>25.177912</td>\n    </tr>\n    <tr>\n      <th>2</th>\n      <td>0.02729</td>\n      <td>0.0</td>\n      <td>7.07</td>\n      <td>0.0</td>\n      <td>0.469</td>\n      <td>7.185</td>\n      <td>61.1</td>\n      <td>4.9671</td>\n      <td>2.0</td>\n      <td>242.0</td>\n      <td>17.8</td>\n      <td>392.83</td>\n      <td>4.03</td>\n      <td>34.7</td>\n      <td>30.725142</td>\n      <td>-8.718692</td>\n      <td>30.725142</td>\n      <td>30.725142</td>\n      <td>30.562689</td>\n      <td>34.167979</td>\n    </tr>\n    <tr>\n      <th>3</th>\n      <td>0.03237</td>\n      <td>0.0</td>\n      <td>2.18</td>\n      <td>0.0</td>\n      <td>0.458</td>\n      <td>6.998</td>\n      <td>45.8</td>\n      <td>6.0622</td>\n      <td>3.0</td>\n      <td>222.0</td>\n      <td>18.7</td>\n      <td>394.63</td>\n      <td>2.94</td>\n      <td>33.4</td>\n      <td>31.760696</td>\n      <td>-6.175841</td>\n      <td>31.760696</td>\n      <td>31.760696</td>\n      <td>28.607066</td>\n      <td>36.379915</td>\n    </tr>\n    <tr>\n      <th>4</th>\n      <td>0.06905</td>\n      <td>0.0</td>\n      <td>2.18</td>\n      <td>0.0</td>\n      <td>0.458</td>\n      <td>7.147</td>\n      <td>54.2</td>\n      <td>6.0622</td>\n      <td>3.0</td>\n      <td>222.0</td>\n      <td>18.7</td>\n      <td>396.90</td>\n      <td>5.33</td>\n      <td>36.2</td>\n      <td>29.490078</td>\n      <td>-11.751449</td>\n      <td>29.490078</td>\n      <td>29.490078</td>\n      <td>27.940601</td>\n      <td>31.665190</td>\n    </tr>\n  </tbody>\n</table>\n</div>"
     },
     "execution_count": 189,
     "metadata": {},
     "output_type": "execute_result"
    }
   ],
   "source": [
    "Y = df['MEDV']\n",
    "X = [[x] for x in df['LSTAT']]\n",
    "\n",
    "poly = PolynomialFeatures(degree=2)\n",
    "X = poly.fit_transform(X)\n",
    "\n",
    "model = LinearRegression()\n",
    "model.fit(X, Y)\n",
    "\n",
    "preds = model.predict(X)\n",
    "\n",
    "df['POLY_LSTAT_PRED'] = preds\n",
    "df.head()"
   ],
   "metadata": {
    "collapsed": false,
    "pycharm": {
     "name": "#%%\n"
    }
   }
  },
  {
   "cell_type": "code",
   "execution_count": 190,
   "outputs": [
    {
     "name": "stdout",
     "output_type": "stream",
     "text": [
      "MSE using LSTAT: 38.48\n",
      "MSE using Poly LSTAT: 30.33\n"
     ]
    }
   ],
   "source": [
    "print('MSE using LSTAT: %.2f'\n",
    "      % mean_squared_error(df['SK_PRED'], df['MEDV']))\n",
    "\n",
    "print('MSE using Poly LSTAT: %.2f'\n",
    "      % mean_squared_error(df['POLY_LSTAT_PRED'], df['MEDV']))"
   ],
   "metadata": {
    "collapsed": false,
    "pycharm": {
     "name": "#%%\n"
    }
   }
  },
  {
   "cell_type": "code",
   "execution_count": 191,
   "outputs": [
    {
     "data": {
      "text/plain": "<Figure size 432x288 with 1 Axes>",
      "image/png": "[encoded data removed]"
     },
     "metadata": {
      "needs_background": "light"
     },
     "output_type": "display_data"
    }
   ],
   "source": [
    "plt.title('Poly vs Line')\n",
    "plt.scatter(df['LSTAT'],df['MEDV'])\n",
    "plt.xlabel('LSTAT')\n",
    "plt.ylabel('MEDV')\n",
    "\n",
    "plt.scatter(df['LSTAT'], df['MEDV'],  color='black')\n",
    "plt.scatter(df['LSTAT'], df['SK_PRED'],  color='blue')\n",
    "plt.scatter(df['LSTAT'], df['POLY_LSTAT_PRED'],  color='red')\n",
    "\n",
    "plt.show()"
   ],
   "metadata": {
    "collapsed": false,
    "pycharm": {
     "name": "#%%\n"
    }
   }
  },
  {
   "cell_type": "markdown",
   "source": [
    "### Predictions are much better"
   ],
   "metadata": {
    "collapsed": false
   }
  },
  {
   "cell_type": "markdown",
   "source": [
    "## 5. Create polynomial regression of higher order with regularization (l1, l2)"
   ],
   "metadata": {
    "collapsed": false,
    "pycharm": {
     "name": "#%% md\n"
    }
   }
  },
  {
   "cell_type": "code",
   "execution_count": 192,
   "outputs": [],
   "source": [
    "# lasso is l1 and ridge is l2\n",
    "from sklearn.linear_model import Ridge, Lasso"
   ],
   "metadata": {
    "collapsed": false,
    "pycharm": {
     "name": "#%%\n"
    }
   }
  },
  {
   "cell_type": "code",
   "execution_count": 193,
   "outputs": [
    {
     "name": "stderr",
     "output_type": "stream",
     "text": [
      "/usr/local/lib/python3.7/site-packages/sklearn/linear_model/_coordinate_descent.py:476: ConvergenceWarning: Objective did not converge. You might want to increase the number of iterations. Duality gap: 7465.851807443669, tolerance: 4.2716295415019765\n",
      "  positive)\n"
     ]
    },
    {
     "data": {
      "text/plain": "      CRIM    ZN  INDUS  CHAS    NOX     RM   AGE     DIS  RAD    TAX  ...  \\\n0  0.00632  18.0   2.31   0.0  0.538  6.575  65.2  4.0900  1.0  296.0  ...   \n1  0.02731   0.0   7.07   0.0  0.469  6.421  78.9  4.9671  2.0  242.0  ...   \n2  0.02729   0.0   7.07   0.0  0.469  7.185  61.1  4.9671  2.0  242.0  ...   \n3  0.03237   0.0   2.18   0.0  0.458  6.998  45.8  6.0622  3.0  222.0  ...   \n4  0.06905   0.0   2.18   0.0  0.458  7.147  54.2  6.0622  3.0  222.0  ...   \n\n        B  LSTAT  MEDV     A_PRED   SEQ_PRED    SK_PRED   SK2_PRED  \\\n0  396.90   4.98  24.0  29.822595 -10.934938  29.822595  29.822595   \n1  396.90   9.14  21.6  25.870390 -20.639761  25.870390  25.870390   \n2  392.83   4.03  34.7  30.725142  -8.718692  30.725142  30.725142   \n3  394.63   2.94  33.4  31.760696  -6.175841  31.760696  31.760696   \n4  396.90   5.33  36.2  29.490078 -11.751449  29.490078  29.490078   \n\n   NO_AGE_PRED  POLY_LSTAT_PRED  l1_LSTAT_PRED  \n0    29.998228        32.324539      32.558208  \n1    25.009542        25.177912      24.432652  \n2    30.562689        34.167979      34.904362  \n3    28.607066        36.379915      37.846362  \n4    27.940601        31.665190      31.743070  \n\n[5 rows x 21 columns]",
      "text/html": "<div>\n<style scoped>\n    .dataframe tbody tr th:only-of-type {\n        vertical-align: middle;\n    }\n\n    .dataframe tbody tr th {\n        vertical-align: top;\n    }\n\n    .dataframe thead th {\n        text-align: right;\n    }\n</style>\n<table border=\"1\" class=\"dataframe\">\n  <thead>\n    <tr style=\"text-align: right;\">\n      <th></th>\n      <th>CRIM</th>\n      <th>ZN</th>\n      <th>INDUS</th>\n      <th>CHAS</th>\n      <th>NOX</th>\n      <th>RM</th>\n      <th>AGE</th>\n      <th>DIS</th>\n      <th>RAD</th>\n      <th>TAX</th>\n      <th>...</th>\n      <th>B</th>\n      <th>LSTAT</th>\n      <th>MEDV</th>\n      <th>A_PRED</th>\n      <th>SEQ_PRED</th>\n      <th>SK_PRED</th>\n      <th>SK2_PRED</th>\n      <th>NO_AGE_PRED</th>\n      <th>POLY_LSTAT_PRED</th>\n      <th>l1_LSTAT_PRED</th>\n    </tr>\n  </thead>\n  <tbody>\n    <tr>\n      <th>0</th>\n      <td>0.00632</td>\n      <td>18.0</td>\n      <td>2.31</td>\n      <td>0.0</td>\n      <td>0.538</td>\n      <td>6.575</td>\n      <td>65.2</td>\n      <td>4.0900</td>\n      <td>1.0</td>\n      <td>296.0</td>\n      <td>...</td>\n      <td>396.90</td>\n      <td>4.98</td>\n      <td>24.0</td>\n      <td>29.822595</td>\n      <td>-10.934938</td>\n      <td>29.822595</td>\n      <td>29.822595</td>\n      <td>29.998228</td>\n      <td>32.324539</td>\n      <td>32.558208</td>\n    </tr>\n    <tr>\n      <th>1</th>\n      <td>0.02731</td>\n      <td>0.0</td>\n      <td>7.07</td>\n      <td>0.0</td>\n      <td>0.469</td>\n      <td>6.421</td>\n      <td>78.9</td>\n      <td>4.9671</td>\n      <td>2.0</td>\n      <td>242.0</td>\n      <td>...</td>\n      <td>396.90</td>\n      <td>9.14</td>\n      <td>21.6</td>\n      <td>25.870390</td>\n      <td>-20.639761</td>\n      <td>25.870390</td>\n      <td>25.870390</td>\n      <td>25.009542</td>\n      <td>25.177912</td>\n      <td>24.432652</td>\n    </tr>\n    <tr>\n      <th>2</th>\n      <td>0.02729</td>\n      <td>0.0</td>\n      <td>7.07</td>\n      <td>0.0</td>\n      <td>0.469</td>\n      <td>7.185</td>\n      <td>61.1</td>\n      <td>4.9671</td>\n      <td>2.0</td>\n      <td>242.0</td>\n      <td>...</td>\n      <td>392.83</td>\n      <td>4.03</td>\n      <td>34.7</td>\n      <td>30.725142</td>\n      <td>-8.718692</td>\n      <td>30.725142</td>\n      <td>30.725142</td>\n      <td>30.562689</td>\n      <td>34.167979</td>\n      <td>34.904362</td>\n    </tr>\n    <tr>\n      <th>3</th>\n      <td>0.03237</td>\n      <td>0.0</td>\n      <td>2.18</td>\n      <td>0.0</td>\n      <td>0.458</td>\n      <td>6.998</td>\n      <td>45.8</td>\n      <td>6.0622</td>\n      <td>3.0</td>\n      <td>222.0</td>\n      <td>...</td>\n      <td>394.63</td>\n      <td>2.94</td>\n      <td>33.4</td>\n      <td>31.760696</td>\n      <td>-6.175841</td>\n      <td>31.760696</td>\n      <td>31.760696</td>\n      <td>28.607066</td>\n      <td>36.379915</td>\n      <td>37.846362</td>\n    </tr>\n    <tr>\n      <th>4</th>\n      <td>0.06905</td>\n      <td>0.0</td>\n      <td>2.18</td>\n      <td>0.0</td>\n      <td>0.458</td>\n      <td>7.147</td>\n      <td>54.2</td>\n      <td>6.0622</td>\n      <td>3.0</td>\n      <td>222.0</td>\n      <td>...</td>\n      <td>396.90</td>\n      <td>5.33</td>\n      <td>36.2</td>\n      <td>29.490078</td>\n      <td>-11.751449</td>\n      <td>29.490078</td>\n      <td>29.490078</td>\n      <td>27.940601</td>\n      <td>31.665190</td>\n      <td>31.743070</td>\n    </tr>\n  </tbody>\n</table>\n<p>5 rows × 21 columns</p>\n</div>"
     },
     "execution_count": 193,
     "metadata": {},
     "output_type": "execute_result"
    }
   ],
   "source": [
    "Y = df['MEDV']\n",
    "X = [[x] for x in df['LSTAT']]\n",
    "\n",
    "poly = PolynomialFeatures(degree=5)\n",
    "X = poly.fit_transform(X)\n",
    "\n",
    "model = Lasso(alpha=0.1)\n",
    "model.fit(X, Y)\n",
    "\n",
    "preds = model.predict(X)\n",
    "\n",
    "df['l1_LSTAT_PRED'] = preds\n",
    "df.head()"
   ],
   "metadata": {
    "collapsed": false,
    "pycharm": {
     "name": "#%%\n"
    }
   }
  },
  {
   "cell_type": "code",
   "execution_count": 194,
   "outputs": [
    {
     "name": "stderr",
     "output_type": "stream",
     "text": [
      "/usr/local/lib/python3.7/site-packages/sklearn/linear_model/_ridge.py:148: LinAlgWarning: Ill-conditioned matrix (rcond=3.20816e-18): result may not be accurate.\n",
      "  overwrite_a=True).T\n"
     ]
    },
    {
     "data": {
      "text/plain": "      CRIM    ZN  INDUS  CHAS    NOX     RM   AGE     DIS  RAD    TAX  ...  \\\n0  0.00632  18.0   2.31   0.0  0.538  6.575  65.2  4.0900  1.0  296.0  ...   \n1  0.02731   0.0   7.07   0.0  0.469  6.421  78.9  4.9671  2.0  242.0  ...   \n2  0.02729   0.0   7.07   0.0  0.469  7.185  61.1  4.9671  2.0  242.0  ...   \n3  0.03237   0.0   2.18   0.0  0.458  6.998  45.8  6.0622  3.0  222.0  ...   \n4  0.06905   0.0   2.18   0.0  0.458  7.147  54.2  6.0622  3.0  222.0  ...   \n\n   LSTAT  MEDV     A_PRED   SEQ_PRED    SK_PRED   SK2_PRED  NO_AGE_PRED  \\\n0   4.98  24.0  29.822595 -10.934938  29.822595  29.822595    29.998228   \n1   9.14  21.6  25.870390 -20.639761  25.870390  25.870390    25.009542   \n2   4.03  34.7  30.725142  -8.718692  30.725142  30.725142    30.562689   \n3   2.94  33.4  31.760696  -6.175841  31.760696  31.760696    28.607066   \n4   5.33  36.2  29.490078 -11.751449  29.490078  29.490078    27.940601   \n\n   POLY_LSTAT_PRED  l1_LSTAT_PRED  l2_LSTAT_PRED  \n0        32.324539      32.558208      32.137158  \n1        25.177912      24.432652      23.314481  \n2        34.167979      34.904362      36.007906  \n3        36.379915      37.846362      41.797271  \n4        31.665190      31.743070      30.942390  \n\n[5 rows x 22 columns]",
      "text/html": "<div>\n<style scoped>\n    .dataframe tbody tr th:only-of-type {\n        vertical-align: middle;\n    }\n\n    .dataframe tbody tr th {\n        vertical-align: top;\n    }\n\n    .dataframe thead th {\n        text-align: right;\n    }\n</style>\n<table border=\"1\" class=\"dataframe\">\n  <thead>\n    <tr style=\"text-align: right;\">\n      <th></th>\n      <th>CRIM</th>\n      <th>ZN</th>\n      <th>INDUS</th>\n      <th>CHAS</th>\n      <th>NOX</th>\n      <th>RM</th>\n      <th>AGE</th>\n      <th>DIS</th>\n      <th>RAD</th>\n      <th>TAX</th>\n      <th>...</th>\n      <th>LSTAT</th>\n      <th>MEDV</th>\n      <th>A_PRED</th>\n      <th>SEQ_PRED</th>\n      <th>SK_PRED</th>\n      <th>SK2_PRED</th>\n      <th>NO_AGE_PRED</th>\n      <th>POLY_LSTAT_PRED</th>\n      <th>l1_LSTAT_PRED</th>\n      <th>l2_LSTAT_PRED</th>\n    </tr>\n  </thead>\n  <tbody>\n    <tr>\n      <th>0</th>\n      <td>0.00632</td>\n      <td>18.0</td>\n      <td>2.31</td>\n      <td>0.0</td>\n      <td>0.538</td>\n      <td>6.575</td>\n      <td>65.2</td>\n      <td>4.0900</td>\n      <td>1.0</td>\n      <td>296.0</td>\n      <td>...</td>\n      <td>4.98</td>\n      <td>24.0</td>\n      <td>29.822595</td>\n      <td>-10.934938</td>\n      <td>29.822595</td>\n      <td>29.822595</td>\n      <td>29.998228</td>\n      <td>32.324539</td>\n      <td>32.558208</td>\n      <td>32.137158</td>\n    </tr>\n    <tr>\n      <th>1</th>\n      <td>0.02731</td>\n      <td>0.0</td>\n      <td>7.07</td>\n      <td>0.0</td>\n      <td>0.469</td>\n      <td>6.421</td>\n      <td>78.9</td>\n      <td>4.9671</td>\n      <td>2.0</td>\n      <td>242.0</td>\n      <td>...</td>\n      <td>9.14</td>\n      <td>21.6</td>\n      <td>25.870390</td>\n      <td>-20.639761</td>\n      <td>25.870390</td>\n      <td>25.870390</td>\n      <td>25.009542</td>\n      <td>25.177912</td>\n      <td>24.432652</td>\n      <td>23.314481</td>\n    </tr>\n    <tr>\n      <th>2</th>\n      <td>0.02729</td>\n      <td>0.0</td>\n      <td>7.07</td>\n      <td>0.0</td>\n      <td>0.469</td>\n      <td>7.185</td>\n      <td>61.1</td>\n      <td>4.9671</td>\n      <td>2.0</td>\n      <td>242.0</td>\n      <td>...</td>\n      <td>4.03</td>\n      <td>34.7</td>\n      <td>30.725142</td>\n      <td>-8.718692</td>\n      <td>30.725142</td>\n      <td>30.725142</td>\n      <td>30.562689</td>\n      <td>34.167979</td>\n      <td>34.904362</td>\n      <td>36.007906</td>\n    </tr>\n    <tr>\n      <th>3</th>\n      <td>0.03237</td>\n      <td>0.0</td>\n      <td>2.18</td>\n      <td>0.0</td>\n      <td>0.458</td>\n      <td>6.998</td>\n      <td>45.8</td>\n      <td>6.0622</td>\n      <td>3.0</td>\n      <td>222.0</td>\n      <td>...</td>\n      <td>2.94</td>\n      <td>33.4</td>\n      <td>31.760696</td>\n      <td>-6.175841</td>\n      <td>31.760696</td>\n      <td>31.760696</td>\n      <td>28.607066</td>\n      <td>36.379915</td>\n      <td>37.846362</td>\n      <td>41.797271</td>\n    </tr>\n    <tr>\n      <th>4</th>\n      <td>0.06905</td>\n      <td>0.0</td>\n      <td>2.18</td>\n      <td>0.0</td>\n      <td>0.458</td>\n      <td>7.147</td>\n      <td>54.2</td>\n      <td>6.0622</td>\n      <td>3.0</td>\n      <td>222.0</td>\n      <td>...</td>\n      <td>5.33</td>\n      <td>36.2</td>\n      <td>29.490078</td>\n      <td>-11.751449</td>\n      <td>29.490078</td>\n      <td>29.490078</td>\n      <td>27.940601</td>\n      <td>31.665190</td>\n      <td>31.743070</td>\n      <td>30.942390</td>\n    </tr>\n  </tbody>\n</table>\n<p>5 rows × 22 columns</p>\n</div>"
     },
     "execution_count": 194,
     "metadata": {},
     "output_type": "execute_result"
    }
   ],
   "source": [
    "Y = df['MEDV']\n",
    "X = [[x] for x in df['LSTAT']]\n",
    "\n",
    "poly = PolynomialFeatures(degree=5)\n",
    "X = poly.fit_transform(X)\n",
    "\n",
    "model = Ridge(alpha=0.1)\n",
    "model.fit(X, Y)\n",
    "\n",
    "preds = model.predict(X)\n",
    "\n",
    "df['l2_LSTAT_PRED'] = preds\n",
    "df.head()"
   ],
   "metadata": {
    "collapsed": false,
    "pycharm": {
     "name": "#%%\n"
    }
   }
  },
  {
   "cell_type": "code",
   "execution_count": 195,
   "outputs": [
    {
     "name": "stdout",
     "output_type": "stream",
     "text": [
      "MSE using poly l1: 28.78\n",
      "MSE using Poly l2: 26.87\n"
     ]
    }
   ],
   "source": [
    "print('MSE using poly l1: %.2f'\n",
    "      % mean_squared_error(df['l1_LSTAT_PRED'], df['MEDV']))\n",
    "\n",
    "print('MSE using Poly l2: %.2f'\n",
    "      % mean_squared_error(df['l2_LSTAT_PRED'], df['MEDV']))"
   ],
   "metadata": {
    "collapsed": false,
    "pycharm": {
     "name": "#%%\n"
    }
   }
  },
  {
   "cell_type": "code",
   "execution_count": 196,
   "outputs": [
    {
     "data": {
      "text/plain": "<Figure size 432x288 with 1 Axes>",
      "image/png": "[encoded data removed]"
     },
     "metadata": {
      "needs_background": "light"
     },
     "output_type": "display_data"
    }
   ],
   "source": [
    "plt.title('L1 vs L2')\n",
    "plt.scatter(df['LSTAT'],df['MEDV'])\n",
    "plt.xlabel('LSTAT')\n",
    "plt.ylabel('MEDV')\n",
    "\n",
    "plt.scatter(df['LSTAT'], df['MEDV'],  color='black')\n",
    "plt.scatter(df['LSTAT'], df['l1_LSTAT_PRED'],  color='blue')\n",
    "plt.scatter(df['LSTAT'], df['l2_LSTAT_PRED'],  color='red')\n",
    "\n",
    "plt.show()\n"
   ],
   "metadata": {
    "collapsed": false,
    "pycharm": {
     "name": "#%%\n"
    }
   }
  }
 ],
 "metadata": {
  "kernelspec": {
   "display_name": "Python 3",
   "language": "python",
   "name": "python3"
  },
  "language_info": {
   "codemirror_mode": {
    "name": "ipython",
    "version": 2
   },
   "file_extension": ".py",
   "mimetype": "text/x-python",
   "name": "python",
   "nbconvert_exporter": "python",
   "pygments_lexer": "ipython2",
   "version": "2.7.6"
  }
 },
 "nbformat": 4,
 "nbformat_minor": 0
}